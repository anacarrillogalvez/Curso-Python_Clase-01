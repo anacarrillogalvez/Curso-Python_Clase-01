{
 "cells": [
  {
   "cell_type": "markdown",
   "metadata": {},
   "source": [
    "# Clase 2"
   ]
  },
  {
   "cell_type": "code",
   "execution_count": 2,
   "metadata": {},
   "outputs": [],
   "source": [
    "num1= int(input(\"num1\"))\n",
    "num2= int(input(\"num2\"))\n",
    "\n",
    "if num1 > num2:\n",
    "    print(f\" {num1} es el mayor\")\n",
    "else:\n",
    "    print(f\" {num2} es el mayor\")\n",
    "\n"
   ]
  },
  {
   "cell_type": "code",
   "execution_count": null,
   "metadata": {},
   "outputs": [],
   "source": [
    "num1 = int(input(\"num1\"))\n",
    "num2 = int(input(\"num2\"))\n",
    "\n",
    "if num1 > num2:\n",
    "    print (f\" {num1} es el mayor\")\n",
    "\n",
    "elif num2 > num1:\n",
    "    print(f\" {num2} es el mayor\")\n",
    "\n",
    "else:\n",
    "    print(\"Ambos son iguales\")"
   ]
  },
  {
   "cell_type": "markdown",
   "metadata": {},
   "source": [
    "# Listas"
   ]
  },
  {
   "cell_type": "code",
   "execution_count": 14,
   "metadata": {},
   "outputs": [
    {
     "name": "stdout",
     "output_type": "stream",
     "text": [
      "['manzana', 'uva', 'mango']\n",
      "manzana\n",
      "['manzana', 'uva', 'mango', 'Naranja']\n"
     ]
    },
    {
     "data": {
      "text/plain": [
       "'Naranja'"
      ]
     },
     "execution_count": 14,
     "metadata": {},
     "output_type": "execute_result"
    }
   ],
   "source": [
    "mis_frutas = [\"manzana\", \"uva\", \"mango\"]\n",
    "print(mis_frutas)\n",
    "\n",
    "print(mis_frutas[0])\n",
    "\n",
    "mis_frutas.append(\"Naranja\")\n",
    "print(mis_frutas)\n",
    "\n",
    "mis_frutas[-1]"
   ]
  },
  {
   "cell_type": "code",
   "execution_count": 9,
   "metadata": {},
   "outputs": [
    {
     "data": {
      "text/plain": [
       "'Los'"
      ]
     },
     "execution_count": 9,
     "metadata": {},
     "output_type": "execute_result"
    }
   ],
   "source": [
    "palabra = \"Los piratas del caribe\"\n",
    "palabra[0:3]"
   ]
  },
  {
   "cell_type": "code",
   "execution_count": 10,
   "metadata": {},
   "outputs": [
    {
     "data": {
      "text/plain": [
       "'piratas'"
      ]
     },
     "execution_count": 10,
     "metadata": {},
     "output_type": "execute_result"
    }
   ],
   "source": [
    "palabra[4:11]"
   ]
  },
  {
   "cell_type": "code",
   "execution_count": 11,
   "metadata": {},
   "outputs": [
    {
     "data": {
      "text/plain": [
       "'del'"
      ]
     },
     "execution_count": 11,
     "metadata": {},
     "output_type": "execute_result"
    }
   ],
   "source": [
    "palabra[12:15]"
   ]
  },
  {
   "cell_type": "code",
   "execution_count": 12,
   "metadata": {},
   "outputs": [
    {
     "data": {
      "text/plain": [
       "'caribe'"
      ]
     },
     "execution_count": 12,
     "metadata": {},
     "output_type": "execute_result"
    }
   ],
   "source": [
    "palabra[16:22]"
   ]
  },
  {
   "cell_type": "code",
   "execution_count": 20,
   "metadata": {},
   "outputs": [
    {
     "name": "stdout",
     "output_type": "stream",
     "text": [
      "[1, 5, 6, 7, 7, 8, 10, 12, 14, 20]\n",
      "[20, 14, 12, 10, 8, 7, 7, 6, 5, 1]\n"
     ]
    },
    {
     "data": {
      "text/plain": [
       "90"
      ]
     },
     "execution_count": 20,
     "metadata": {},
     "output_type": "execute_result"
    }
   ],
   "source": [
    "mis_numeros = [5, 8, 1, 6, 10, 14, 7, 12, 7, 20]\n",
    "mis_numeros.sort()\n",
    "print(mis_numeros)\n",
    "\n",
    "mis_numeros.sort(reverse=True)\n",
    "print(mis_numeros)\n",
    "\n",
    "mis_numeros.count(7)\n",
    "\n",
    "sum(mis_numeros)\n"
   ]
  },
  {
   "cell_type": "markdown",
   "metadata": {},
   "source": [
    "$$\\frac{1}{2}\\sum{i}^{n}x_i$$\n",
    "\n"
   ]
  },
  {
   "cell_type": "code",
   "execution_count": 22,
   "metadata": {},
   "outputs": [
    {
     "name": "stdout",
     "output_type": "stream",
     "text": [
      "9.0\n"
     ]
    }
   ],
   "source": [
    "sum(mis_numeros)/10"
   ]
  },
  {
   "cell_type": "code",
   "execution_count": 23,
   "metadata": {},
   "outputs": [
    {
     "name": "stdout",
     "output_type": "stream",
     "text": [
      "9.0\n"
     ]
    }
   ],
   "source": [
    "promedio = sum(mis_numeros) / len(mis_numeros)\n",
    "print(promedio)"
   ]
  },
  {
   "cell_type": "code",
   "execution_count": 24,
   "metadata": {},
   "outputs": [
    {
     "name": "stdout",
     "output_type": "stream",
     "text": [
      "1\n",
      "20\n"
     ]
    }
   ],
   "source": [
    "print(min(mis_numeros))\n",
    "print(max(mis_numeros))"
   ]
  },
  {
   "cell_type": "code",
   "execution_count": null,
   "metadata": {},
   "outputs": [],
   "source": []
  }
 ],
 "metadata": {
  "kernelspec": {
   "display_name": "Python 3.10.6 64-bit",
   "language": "python",
   "name": "python3"
  },
  "language_info": {
   "codemirror_mode": {
    "name": "ipython",
    "version": 3
   },
   "file_extension": ".py",
   "mimetype": "text/x-python",
   "name": "python",
   "nbconvert_exporter": "python",
   "pygments_lexer": "ipython3",
   "version": "3.10.6"
  },
  "orig_nbformat": 4,
  "vscode": {
   "interpreter": {
    "hash": "f8246358465690da636837f290480bd719a5c5ec8c40c2246b6cb645c7050265"
   }
  }
 },
 "nbformat": 4,
 "nbformat_minor": 2
}
