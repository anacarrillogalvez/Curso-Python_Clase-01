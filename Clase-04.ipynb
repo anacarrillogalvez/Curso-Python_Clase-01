{
 "cells": [
  {
   "attachments": {},
   "cell_type": "markdown",
   "metadata": {},
   "source": [
    "# Clase-04"
   ]
  },
  {
   "cell_type": "code",
   "execution_count": 2,
   "metadata": {},
   "outputs": [
    {
     "data": {
      "text/plain": [
       "18"
      ]
     },
     "execution_count": 2,
     "metadata": {},
     "output_type": "execute_result"
    }
   ],
   "source": [
    "def sumar(a,b):\n",
    "\n",
    "    \"\"\"Documentación (triples comillas dobles)\n",
    "        Función para sumar 2 números\n",
    "        ##Parámetros\n",
    "        a, b : valores enteros\n",
    "        ##Return\n",
    "        La suma de a con b\n",
    "        \"\"\"\n",
    "    resultado=a+b\n",
    "    return resultado\n",
    "sumar(8,10)\n"
   ]
  },
  {
   "cell_type": "code",
   "execution_count": 3,
   "metadata": {},
   "outputs": [
    {
     "data": {
      "text/plain": [
       "18"
      ]
     },
     "execution_count": 3,
     "metadata": {},
     "output_type": "execute_result"
    }
   ],
   "source": [
    "def sumar(a,b):\n",
    "\n",
    "    \"\"\"Documentación (triples comillas dobles)\n",
    "        Función para sumar 2 números\n",
    "        ##Parámetros\n",
    "        a, b : valores enteros\n",
    "        ##Return\n",
    "        La suma de a con b\n",
    "        \"\"\"\n",
    "    return a + b\n",
    "sumar(8,10)"
   ]
  },
  {
   "attachments": {},
   "cell_type": "markdown",
   "metadata": {},
   "source": [
    "# Actividad 1"
   ]
  },
  {
   "cell_type": "code",
   "execution_count": 4,
   "metadata": {},
   "outputs": [
    {
     "data": {
      "text/plain": [
       "494.00000000000006"
      ]
     },
     "execution_count": 4,
     "metadata": {},
     "output_type": "execute_result"
    }
   ],
   "source": [
    "def dolaresAPesos (dolares):\n",
    "    \"\"\"Función para devolver los dolares a pesos\"\"\"\n",
    "    dolaresOp= dolares * 19.76\n",
    "    return dolaresOp\n",
    "dolaresAPesos(25)"
   ]
  },
  {
   "cell_type": "code",
   "execution_count": 5,
   "metadata": {},
   "outputs": [],
   "source": [
    "def promedio(lista):\n",
    "    \"\"\"Devolveré el promedio de una lista\"\"\"\n",
    "    n= len(lista)\n",
    "    suma= sum(lista)\n",
    "    return suma/n\n"
   ]
  },
  {
   "cell_type": "code",
   "execution_count": 6,
   "metadata": {},
   "outputs": [
    {
     "data": {
      "text/plain": [
       "5.0"
      ]
     },
     "execution_count": 6,
     "metadata": {},
     "output_type": "execute_result"
    }
   ],
   "source": [
    "\n",
    "promedio([4,5,6])"
   ]
  },
  {
   "attachments": {},
   "cell_type": "markdown",
   "metadata": {},
   "source": [
    "# Segunda Opcion"
   ]
  },
  {
   "cell_type": "code",
   "execution_count": 7,
   "metadata": {},
   "outputs": [
    {
     "data": {
      "text/plain": [
       "5.0"
      ]
     },
     "execution_count": 7,
     "metadata": {},
     "output_type": "execute_result"
    }
   ],
   "source": [
    "def promedio(una_lista):\n",
    "    return sum(una_lista)/len(una_lista)\n",
    "promedio([4,5,6])"
   ]
  }
 ],
 "metadata": {
  "kernelspec": {
   "display_name": "Python 3",
   "language": "python",
   "name": "python3"
  },
  "language_info": {
   "codemirror_mode": {
    "name": "ipython",
    "version": 3
   },
   "file_extension": ".py",
   "mimetype": "text/x-python",
   "name": "python",
   "nbconvert_exporter": "python",
   "pygments_lexer": "ipython3",
   "version": "3.10.6 (tags/v3.10.6:9c7b4bd, Aug  1 2022, 21:53:49) [MSC v.1932 64 bit (AMD64)]"
  },
  "orig_nbformat": 4,
  "vscode": {
   "interpreter": {
    "hash": "f8246358465690da636837f290480bd719a5c5ec8c40c2246b6cb645c7050265"
   }
  }
 },
 "nbformat": 4,
 "nbformat_minor": 2
}
