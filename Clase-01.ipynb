{
 "cells": [
  {
   "cell_type": "markdown",
   "metadata": {},
   "source": [
    "# Clase 1"
   ]
  },
  {
   "cell_type": "code",
   "execution_count": 4,
   "metadata": {},
   "outputs": [
    {
     "name": "stdout",
     "output_type": "stream",
     "text": [
      "Hola Mundo\n"
     ]
    }
   ],
   "source": [
    "print(\"Hola Mundo\")"
   ]
  },
  {
   "cell_type": "code",
   "execution_count": 9,
   "metadata": {},
   "outputs": [
    {
     "name": "stdout",
     "output_type": "stream",
     "text": [
      "Ana Guadalupe\n"
     ]
    }
   ],
   "source": [
    "mi_nombre = \"Ana Guadalupe\"\n",
    "print(mi_nombre)\n"
   ]
  },
  {
   "cell_type": "code",
   "execution_count": 11,
   "metadata": {},
   "outputs": [
    {
     "name": "stdout",
     "output_type": "stream",
     "text": [
      "30\n",
      "anacarrillo49@aragon.unam.mx\n",
      "1.8\n"
     ]
    }
   ],
   "source": [
    "mi_edad = 30\n",
    "print(mi_edad)\n",
    "\n",
    "mi_correo = \"anacarrillo49@aragon.unam.mx\"\n",
    "print(mi_correo)\n",
    "\n",
    "mi_altura = 1.80\n",
    "print(mi_altura)"
   ]
  },
  {
   "cell_type": "code",
   "execution_count": 14,
   "metadata": {},
   "outputs": [
    {
     "name": "stdout",
     "output_type": "stream",
     "text": [
      "45\n",
      "25\n",
      "350\n",
      "3.5\n"
     ]
    }
   ],
   "source": [
    "valor_1 = 35\n",
    "valor_2 =10\n",
    "\n",
    "suma = valor_1 + valor_2\n",
    "print(suma)\n",
    "\n",
    "resta = valor_1 - valor_2\n",
    "print(resta)\n",
    "\n",
    "multiplicacion = valor_1 * valor_2\n",
    "print(multiplicacion)\n",
    "\n",
    "division = valor_1 / valor_2\n",
    "print(division)\n",
    "\n",
    "\n"
   ]
  },
  {
   "cell_type": "markdown",
   "metadata": {},
   "source": [
    "# Format"
   ]
  },
  {
   "cell_type": "code",
   "execution_count": 21,
   "metadata": {},
   "outputs": [
    {
     "data": {
      "text/plain": [
       "'20'"
      ]
     },
     "execution_count": 21,
     "metadata": {},
     "output_type": "execute_result"
    }
   ],
   "source": [
    "input(\"Dame un valor:\")\n",
    "\n"
   ]
  },
  {
   "cell_type": "code",
   "execution_count": 24,
   "metadata": {},
   "outputs": [
    {
     "data": {
      "text/plain": [
       "'HolaHolaHola'"
      ]
     },
     "execution_count": 24,
     "metadata": {},
     "output_type": "execute_result"
    }
   ],
   "source": [
    "\"Hola\" * 3"
   ]
  },
  {
   "cell_type": "code",
   "execution_count": 2,
   "metadata": {},
   "outputs": [
    {
     "name": "stdout",
     "output_type": "stream",
     "text": [
      "La suma de 7 y 7 es 14\n"
     ]
    }
   ],
   "source": [
    "valor_1 = int(input(\"Dame un valor 1\"))\n",
    "valor_2 = int(input(\"Dame el valor 2\"))\n",
    "\n",
    "suma = valor_1 + valor_2\n",
    "print(f\"La suma de {valor_1} y {valor_2} es {suma}\")"
   ]
  },
  {
   "cell_type": "code",
   "execution_count": null,
   "metadata": {},
   "outputs": [],
   "source": []
  },
  {
   "cell_type": "markdown",
   "metadata": {},
   "source": []
  }
 ],
 "metadata": {
  "kernelspec": {
   "display_name": "Python 3.10.6 64-bit",
   "language": "python",
   "name": "python3"
  },
  "language_info": {
   "codemirror_mode": {
    "name": "ipython",
    "version": 3
   },
   "file_extension": ".py",
   "mimetype": "text/x-python",
   "name": "python",
   "nbconvert_exporter": "python",
   "pygments_lexer": "ipython3",
   "version": "3.10.6"
  },
  "orig_nbformat": 4,
  "vscode": {
   "interpreter": {
    "hash": "f8246358465690da636837f290480bd719a5c5ec8c40c2246b6cb645c7050265"
   }
  }
 },
 "nbformat": 4,
 "nbformat_minor": 2
}
